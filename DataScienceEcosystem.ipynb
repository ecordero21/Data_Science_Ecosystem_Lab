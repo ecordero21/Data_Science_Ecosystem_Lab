{
 "cells": [
  {
   "cell_type": "markdown",
   "id": "1bdbc2df",
   "metadata": {},
   "source": [
    "# Data Science Ecosystem"
   ]
  },
  {
   "cell_type": "markdown",
   "id": "af850020",
   "metadata": {},
   "source": [
    "In this notebook, Data Science Tools and Ecosystem are summarized."
   ]
  },
  {
   "cell_type": "markdown",
   "id": "6a4afcef",
   "metadata": {},
   "source": [
    "## Objectives"
   ]
  },
  {
   "cell_type": "markdown",
   "id": "f741de72",
   "metadata": {},
   "source": [
    "-  List popular languages for Data Science\n",
    "-  List popular libraries for Data Science\n",
    "-  Learn how to create a table\n",
    "-  Evaluate basic arithmetic expresions\n",
    "-  Apply markdown knowledge in python"
   ]
  },
  {
   "cell_type": "markdown",
   "id": "f5f7f496",
   "metadata": {},
   "source": [
    "Some of the popular languages that  Data Science use are:"
   ]
  },
  {
   "cell_type": "markdown",
   "id": "8b4af1bf",
   "metadata": {},
   "source": [
    "1. Pyhton\n",
    "2. R\n",
    "3. SQL"
   ]
  },
  {
   "cell_type": "markdown",
   "id": "be63eab3",
   "metadata": {},
   "source": [
    "Some of the commonly used libraries used by Data Scientists include:"
   ]
  },
  {
   "cell_type": "markdown",
   "id": "7a762a2a",
   "metadata": {},
   "source": [
    "1. Pandas\n",
    "2. Numpy\n",
    "3. Scikit\n",
    "4. Tensor Flow\n",
    "5. Vegas\n",
    "6. Big DL"
   ]
  },
  {
   "cell_type": "markdown",
   "id": "bc26f95f",
   "metadata": {},
   "source": [
    "|Data Science Tools|\n",
    "|-|\n",
    "|Jupyter Lab|\n",
    "|RStudio|\n",
    "|Spyder|"
   ]
  },
  {
   "cell_type": "markdown",
   "id": "3dd77c30",
   "metadata": {},
   "source": [
    "### Below are a few examples of evaluating arithmetic expressions in Python"
   ]
  },
  {
   "cell_type": "markdown",
   "id": "34e090fc",
   "metadata": {},
   "source": [
    "This a simple arithmetic expression to mutiply then add integers"
   ]
  },
  {
   "cell_type": "code",
   "execution_count": 2,
   "id": "ab677a8c",
   "metadata": {},
   "outputs": [
    {
     "data": {
      "text/plain": [
       "17"
      ]
     },
     "execution_count": 2,
     "metadata": {},
     "output_type": "execute_result"
    }
   ],
   "source": [
    "(3*4)+5"
   ]
  },
  {
   "cell_type": "markdown",
   "id": "06e1e376",
   "metadata": {},
   "source": [
    "This will convert 200 minutes to hours by diving by 60"
   ]
  },
  {
   "cell_type": "code",
   "execution_count": 4,
   "id": "019f97c0",
   "metadata": {},
   "outputs": [
    {
     "name": "stdout",
     "output_type": "stream",
     "text": [
      "Hours: 3.3333333333333335\n"
     ]
    }
   ],
   "source": [
    "minutes = 200\n",
    "hours = minutes / 60\n",
    "print(\"Hours:\", hours)\n"
   ]
  },
  {
   "cell_type": "markdown",
   "id": "02cea8f3",
   "metadata": {},
   "source": [
    "## Auhtor"
   ]
  },
  {
   "cell_type": "markdown",
   "id": "d8ab3a36",
   "metadata": {},
   "source": [
    "Esteban Cordero"
   ]
  },
  {
   "cell_type": "code",
   "execution_count": null,
   "id": "591512f7",
   "metadata": {},
   "outputs": [],
   "source": []
  }
 ],
 "metadata": {
  "kernelspec": {
   "display_name": "Python 3 (ipykernel)",
   "language": "python",
   "name": "python3"
  },
  "language_info": {
   "codemirror_mode": {
    "name": "ipython",
    "version": 3
   },
   "file_extension": ".py",
   "mimetype": "text/x-python",
   "name": "python",
   "nbconvert_exporter": "python",
   "pygments_lexer": "ipython3",
   "version": "3.10.9"
  }
 },
 "nbformat": 4,
 "nbformat_minor": 5
}
